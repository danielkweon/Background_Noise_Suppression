{
 "cells": [
  {
   "cell_type": "markdown",
   "metadata": {
    "colab_type": "text",
    "id": "vp3VhnPA6d_Z"
   },
   "source": [
    "# Machine Learning Capstone Project\n",
    "\n",
    "**Background Noise Suppression Using Machine Learning**\n",
    "\n",
    "Asha Cheruvu, Daniel Kweon, Nikhil Shirolkar"
   ]
  },
  {
   "cell_type": "markdown",
   "metadata": {
    "colab_type": "text",
    "id": "We7vtn0G65cB"
   },
   "source": [
    "# Milestone 1 - March 7\n",
    "\n",
    "By Milestone 1, we would like to have a more detailed outline of the steps we need to successfully reproduce existing research. \n",
    "In order to do this, we would need to have read and understood all literature in addition to the technologies and approaches that were mentioned.\n",
    "\n",
    "Update: Completed Pipelin"
   ]
  },
  {
   "cell_type": "code",
   "execution_count": null,
   "metadata": {
    "colab": {},
    "colab_type": "code",
    "id": "eVmhxBmihj5V"
   },
   "outputs": [],
   "source": [
    "# IMPORTS\n",
    "\n",
    "import numpy as np\n",
    "from IPython.display import Audio\n",
    "from scipy.io import wavfile\n",
    "from matplotlib import pyplot as plt\n"
   ]
  },
  {
   "cell_type": "markdown",
   "metadata": {},
   "source": [
    "**Import Data from Microsoft's Open Data**"
   ]
  },
  {
   "cell_type": "code",
   "execution_count": null,
   "metadata": {
    "colab": {
     "base_uri": "https://localhost:8080/",
     "height": 34
    },
    "colab_type": "code",
    "id": "0cJtj1Q47GS8",
    "outputId": "ca813068-7dc1-4098-8efb-6ad7693e2339"
   },
   "outputs": [],
   "source": [
    "# This was all done locally. Microsoft's scalable audio dataset has related documentation.\n",
    "# https://github.com/microsoft/MS-SNSD\n",
    "\n",
    "\n",
    "# Step 1. Customize noisyspeech_synthesizer.cfg file\n",
    "# Change sampling rate to 48000\n",
    "# Change audio length to 60 seconds and total hours to 1\n",
    "\n",
    "\n",
    "# Step 2. Generate dataset\n",
    "# Run 'python noisyspeech_synthesizer.py' to generate Noise, Noisy Speech, and Clean Speech data\n"
   ]
  },
  {
   "cell_type": "markdown",
   "metadata": {},
   "source": [
    "**Handle Noise Data to Manageable Format**"
   ]
  },
  {
   "cell_type": "code",
   "execution_count": null,
   "metadata": {},
   "outputs": [],
   "source": [
    "# This was all done locally. RNNoise has related documentation on processing and training.\n",
    "# https://github.com/jagger2048/rnnoise-windows\n",
    "\n",
    "\n",
    "# Step 1. Set up environment\n",
    "# conda create -n tf python=3.7\n",
    "# activate tf\n",
    "# conda install tensorflow\n",
    "# conda install keras\n",
    "\n",
    "\n",
    "# Step 2.  Process .wav to .dat to .h5\n",
    "# src Folder\n",
    "# ./compile.sh\n",
    "# ./denoise_training clean_speech.wav noise.wav 50000 feature.dat\n",
    "#  my_training Folder\n",
    "# python bin2hdf5.py feature.dat 50000 87 output.h5\n"
   ]
  },
  {
   "cell_type": "markdown",
   "metadata": {},
   "source": [
    "**Train using a Recurrent Neural Network**"
   ]
  },
  {
   "cell_type": "code",
   "execution_count": null,
   "metadata": {},
   "outputs": [],
   "source": [
    "# This was all done locally. RNNoise has related documentation on processing and training.\n",
    "# https://github.com/jagger2048/rnnoise-windows\n",
    "\n",
    "# Step 1.\n",
    "# python rnn_train.py output.h5\n"
   ]
  },
  {
   "cell_type": "markdown",
   "metadata": {
    "colab_type": "text",
    "id": "bcXgyI-09GYZ"
   },
   "source": [
    "# Helpful Links\n",
    "\n",
    "https://colab.research.google.com/notebooks/intro.ipynb#scrollTo=C4HZx7Gndbrh\n",
    "\n",
    "http://www.cs.cmu.edu/~alnu/sefiles/SE_4.pdf\n",
    "\n",
    "https://storage.googleapis.com/pub-tools-public-publication-data/pdf/45168.pdf\n",
    "\n",
    "https://www.analyticsvidhya.com/blog/2017/08/audio-voice-processing-deep-learning/\n",
    "\n",
    "https://medium.com/@mikesmales/sound-classification-using-deep-learning-8bc2aa1990b7\n",
    "\n",
    "https://towardsdatascience.com/how-to-apply-machine-learning-and-deep-learning-methods-to-audio-analysis-615e286fcbbc\n",
    "\n",
    "https://people.xiph.org/~jm/demo/rnnoise/\n",
    "\n",
    "https://keras.io\n",
    "\n",
    "https://towardsdatascience.com/deep-active-noise-cancellation-e364ce4562d4\n",
    "\n",
    "https://towardsdatascience.com/acoustic-noise-cancellation-by-machine-learning-4144af497661\n",
    "\n",
    "https://github.com/jagger2048/rnnoise-windows\n",
    "\n",
    "https://www.tensorflow.org/api_docs/python/tf/audio/decode_wav"
   ]
  }
 ],
 "metadata": {
  "colab": {
   "collapsed_sections": [],
   "name": "ML_Capstone.ipynb",
   "provenance": [],
   "toc_visible": true
  },
  "kernelspec": {
   "display_name": "Python 3",
   "language": "python",
   "name": "python3"
  },
  "language_info": {
   "codemirror_mode": {
    "name": "ipython",
    "version": 3
   },
   "file_extension": ".py",
   "mimetype": "text/x-python",
   "name": "python",
   "nbconvert_exporter": "python",
   "pygments_lexer": "ipython3",
   "version": "3.7.3"
  }
 },
 "nbformat": 4,
 "nbformat_minor": 1
}
