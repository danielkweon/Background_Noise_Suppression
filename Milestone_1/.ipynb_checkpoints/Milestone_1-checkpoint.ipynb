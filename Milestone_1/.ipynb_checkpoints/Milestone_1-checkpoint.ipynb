{
 "cells": [
  {
   "cell_type": "markdown",
   "metadata": {
    "colab_type": "text",
    "id": "vp3VhnPA6d_Z"
   },
   "source": [
    "# Machine Learning Capstone Project\n",
    "\n",
    "**Background Noise Suppression Using ML**\n",
    "\n",
    "Asha Cheruvu, Daniel Kweon, Nikhil Shirolkar"
   ]
  },
  {
   "cell_type": "markdown",
   "metadata": {
    "colab_type": "text",
    "id": "We7vtn0G65cB"
   },
   "source": [
    "# Milestone 1 - March 7\n",
    "\n",
    "By Milestone 1, we would like to have a more detailed outline of the steps we need to successfully reproduce existing research. \n",
    "In order to do this, we would need to have read and understood all literature in addition to the technologies and approaches that were mentioned.\n",
    "\n",
    "UPDATE: We need our pipeline and have code that is presentable."
   ]
  },
  {
   "cell_type": "code",
   "execution_count": null,
   "metadata": {
    "colab": {},
    "colab_type": "code",
    "id": "eVmhxBmihj5V"
   },
   "outputs": [],
   "source": [
    "# IMPORTS\n",
    "\n",
    "import numpy as np\n",
    "from IPython.display import Audio\n",
    "from scipy.io import wavfile\n",
    "from matplotlib import pyplot as plt"
   ]
  },
  {
   "cell_type": "code",
   "execution_count": null,
   "metadata": {
    "colab": {
     "base_uri": "https://localhost:8080/",
     "height": 34
    },
    "colab_type": "code",
    "id": "0cJtj1Q47GS8",
    "outputId": "ca813068-7dc1-4098-8efb-6ad7693e2339"
   },
   "outputs": [],
   "source": [
    "### BEING CODE ###\n",
    "\n",
    "# Import Data from Microsoft's Open Data\n",
    "'''\n",
    "This was all done locally. Microsoft's scalable audio dataset has related documentation.\n",
    "https://github.com/microsoft/MS-SNSD\n",
    "'''\n",
    "\n",
    "\n",
    "\n",
    "# Handle Noise Data to Manageable Format \n",
    "...\n",
    "\n",
    "\n",
    "# Use a Deep Neural Network to Replicate Existing Research \n",
    "...\n",
    "\n",
    "\n",
    "\n",
    "# END CODE"
   ]
  },
  {
   "cell_type": "markdown",
   "metadata": {
    "colab_type": "text",
    "id": "n_smF5VV8j00"
   },
   "source": [
    "# Midterm Check - April 1\n",
    "\n",
    "By the Mid-Term Check, we would like to have reproduced results from existing research. \n",
    "This means we would have built a machine learning model to suppress background noise from various audio sources with a performance similar to those achieved by past research."
   ]
  },
  {
   "cell_type": "markdown",
   "metadata": {
    "colab_type": "text",
    "id": "bcXgyI-09GYZ"
   },
   "source": [
    "# Notes\n",
    "\n",
    "https://colab.research.google.com/notebooks/intro.ipynb#scrollTo=C4HZx7Gndbrh\n",
    "\n",
    "http://www.cs.cmu.edu/~alnu/sefiles/SE_4.pdf\n",
    "# Handle Noise Data to Manageable Format \n",
    "\n",
    "https://storage.googleapis.com/pub-tools-public-publication-data/pdf/45168.pdf\n",
    "\n",
    "https://www.analyticsvidhya.com/blog/2017/08/audio-voice-processing-deep-learning/\n",
    "\n",
    "https://medium.com/@mikesmales/sound-classification-using-deep-learning-8bc2aa1990b7\n",
    "\n",
    "https://towardsdatascience.com/how-to-apply-machine-learning-and-deep-learning-methods-to-audio-analysis-615e286fcbbc\n",
    "\n",
    "https://people.xiph.org/~jm/demo/rnnoise/\n",
    "\n",
    "https://keras.io\n",
    "\n",
    "https://towardsdatascience.com/deep-active-noise-cancellation-e364ce4562d4\n",
    "\n",
    "https://towardsdatascience.com/acoustic-noise-cancellation-by-machine-learning-4144af497661\n",
    "\n",
    "https://github.com/jagger2048/rnnoise-windows\n",
    "\n",
    "...\n",
    "https://www.tensorflow.org/api_docs/python/tf/audio/decode_wav"
   ]
  },
  {
   "cell_type": "code",
   "execution_count": null,
   "metadata": {},
   "outputs": [],
   "source": []
  }
 ],
 "metadata": {
  "colab": {
   "collapsed_sections": [],
   "name": "ML_Capstone.ipynb",
   "provenance": [],
   "toc_visible": true
  },
  "kernelspec": {
   "display_name": "Python 3",
   "language": "python",
   "name": "python3"
  },
  "language_info": {
   "codemirror_mode": {
    "name": "ipython",
    "version": 3
   },
   "file_extension": ".py",
   "mimetype": "text/x-python",
   "name": "python",
   "nbconvert_exporter": "python",
   "pygments_lexer": "ipython3",
   "version": "3.7.3"
  }
 },
 "nbformat": 4,
 "nbformat_minor": 1
}
